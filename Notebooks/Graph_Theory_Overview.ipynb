{
 "cells": [
  {
   "cell_type": "markdown",
   "metadata": {},
   "source": [
    "# Graph Theory and Linear Alegbra: The Fun That Never Ends"
   ]
  },
  {
   "cell_type": "markdown",
   "metadata": {},
   "source": [
    "## The Creation and Application of Laplaican Matricies\n",
    "The examples seen in this section are based on the [Laplacian matrix page](https://en.wikipedia.org/wiki/Laplacian_matrix \"Laplacian matrix page\") found on Wikipedia. To start, note the graph itself, its degree matrix, and its adjacency matrix in the figure below.\n",
    "![](Juypter_Media/Overview/Wiki_LM_Example.PNG)"
   ]
  },
  {
   "cell_type": "code",
   "execution_count": 2,
   "metadata": {},
   "outputs": [],
   "source": [
    "import networkx          as nx  # Graph creation and analysis.\n",
    "import numpy             as np  # All things linear algebra.\n",
    "import matplotlib.pyplot as plt # Drawing graphs."
   ]
  },
  {
   "cell_type": "code",
   "execution_count": 3,
   "metadata": {},
   "outputs": [],
   "source": [
    "G = nx.Graph() # Create empty graph\n",
    "\n",
    "# Adding the six verticies of the Wiki example graph\n",
    "V = [1, 2, 3, 4, 5, 6]\n",
    "G.add_nodes_from(V)\n",
    "\n",
    "# Adding the seven edges from the Wiki example graph\n",
    "E = [(1,2), (1,5), (2,3), (2,5), (3,4), (4,5), (6,4)]\n",
    "G.add_edges_from(E)"
   ]
  },
  {
   "cell_type": "markdown",
   "metadata": {},
   "source": [
    "This is the output from the graph that was just created using NetworkX. Note that it contains the same set of vertices and edges that the Wiki examples does.\n",
    "![](Juypter_Media/Overview/Wiki_Graph_NX.png)"
   ]
  },
  {
   "cell_type": "code",
   "execution_count": 4,
   "metadata": {},
   "outputs": [
    {
     "name": "stdout",
     "output_type": "stream",
     "text": [
      "Number of verticies: 6\n",
      "Number of edges: 7\n",
      "\n"
     ]
    }
   ],
   "source": [
    "# Print current graph info\n",
    "numOfVerticies = G.number_of_nodes()\n",
    "numOfEdges = G.number_of_edges()\n",
    "\n",
    "print(\"Number of verticies: {verts}\".format(verts=numOfVerticies))\n",
    "print(\"Number of edges: {edges}\\n\".format(edges=numOfEdges))"
   ]
  },
  {
   "cell_type": "markdown",
   "metadata": {},
   "source": [
    "Consider the following equation:\n",
    "$$\n",
    "D_{i,j} :=\\left\\{\\begin{matrix}\n",
    "deg(v_{i}) & \\mathrm{if}\\: i = j \\\\ 0 & \\mathrm{otherwise}\n",
    "\\end{matrix}\\right.\n",
    "$$"
   ]
  },
  {
   "cell_type": "code",
   "execution_count": 5,
   "metadata": {},
   "outputs": [
    {
     "name": "stdout",
     "output_type": "stream",
     "text": [
      "Degree Matrix:\n",
      "[[2 0 0 0 0 0]\n",
      " [0 3 0 0 0 0]\n",
      " [0 0 2 0 0 0]\n",
      " [0 0 0 3 0 0]\n",
      " [0 0 0 0 3 0]\n",
      " [0 0 0 0 0 1]]\n"
     ]
    }
   ],
   "source": [
    "D = []\n",
    "for i in G:\n",
    "    for j in G:\n",
    "        if(i == j):\n",
    "            D.append(G.degree(i))\n",
    "        else:\n",
    "            D.append(0)\n",
    "\n",
    "D = np.array(D)\n",
    "D = D.reshape(numOfVerticies, numOfVerticies)\n",
    "\n",
    "print(\"Degree Matrix:\\n{DMatrix}\".format(DMatrix=D))"
   ]
  },
  {
   "cell_type": "markdown",
   "metadata": {},
   "source": [
    "$$\n",
    "A_{i,j} :=\\left\\{\\begin{matrix}\n",
    "deg(v_{i}) & \\mathrm{if}\\: (v_{i},v_{j}) \\: \\epsilon \\: E  \\\\ 0 & \\mathrm{otherwise}\n",
    "\\end{matrix}\\right.\n",
    "$$"
   ]
  },
  {
   "cell_type": "code",
   "execution_count": 6,
   "metadata": {},
   "outputs": [
    {
     "name": "stdout",
     "output_type": "stream",
     "text": [
      "Adjacency Matrix:\n",
      "[[0 1 0 0 1 0]\n",
      " [1 0 1 0 1 0]\n",
      " [0 1 0 1 0 0]\n",
      " [0 0 1 0 1 1]\n",
      " [1 1 0 1 0 0]\n",
      " [0 0 0 1 0 0]]\n"
     ]
    }
   ],
   "source": [
    "A = []\n",
    "for i in G:\n",
    "    for j in G:\n",
    "        if(G.has_edge(i,j)):\n",
    "            A.append(1)\n",
    "        else:\n",
    "            A.append(0)\n",
    "\n",
    "A = np.array(A)\n",
    "A = A.reshape(numOfVerticies, numOfVerticies)\n",
    "\n",
    "print(\"Adjacency Matrix:\\n{AMatrix}\".format(AMatrix=A))"
   ]
  },
  {
   "cell_type": "code",
   "execution_count": 7,
   "metadata": {},
   "outputs": [
    {
     "name": "stdout",
     "output_type": "stream",
     "text": [
      "Laplacian Matrix:\n",
      "[[ 2 -1  0  0 -1  0]\n",
      " [-1  3 -1  0 -1  0]\n",
      " [ 0 -1  2 -1  0  0]\n",
      " [ 0  0 -1  3 -1 -1]\n",
      " [-1 -1  0 -1  3  0]\n",
      " [ 0  0  0 -1  0  1]]\n"
     ]
    }
   ],
   "source": [
    "L = D - A\n",
    "\n",
    "print(\"Laplacian Matrix:\\n{LMatrix}\".format(LMatrix=L))"
   ]
  },
  {
   "cell_type": "code",
   "execution_count": 8,
   "metadata": {},
   "outputs": [
    {
     "name": "stdout",
     "output_type": "stream",
     "text": [
      "The Fiedler value comes to: 0.722\n"
     ]
    }
   ],
   "source": [
    "eigVals = np.linalg.eigvals(L)\n",
    "eigVals = set(eigVals)\n",
    "\n",
    "fiedlerValue = sorted(eigVals)[1] # index 1, which is where the second-smallest eigenvalue is located in the set\n",
    "\n",
    "print(\"The Fiedler value comes to: {:.3f}\".format(fiedlerValue))"
   ]
  }
 ],
 "metadata": {
  "kernelspec": {
   "display_name": "Python 3",
   "language": "python",
   "name": "python3"
  },
  "language_info": {
   "codemirror_mode": {
    "name": "ipython",
    "version": 3
   },
   "file_extension": ".py",
   "mimetype": "text/x-python",
   "name": "python",
   "nbconvert_exporter": "python",
   "pygments_lexer": "ipython3",
   "version": "3.7.3"
  }
 },
 "nbformat": 4,
 "nbformat_minor": 2
}
