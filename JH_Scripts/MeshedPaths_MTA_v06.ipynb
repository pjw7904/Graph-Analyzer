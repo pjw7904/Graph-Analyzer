{
 "cells": [
  {
   "cell_type": "markdown",
   "metadata": {
    "scrolled": true
   },
   "source": [
    "#MeshedPaths"
   ]
  },
  {
   "cell_type": "code",
   "execution_count": 1,
   "metadata": {},
   "outputs": [],
   "source": [
    "import sys\n",
    "#sys.path.append(\"../\")\n",
    "sys.path.append('C:/Users/John/Documents/Python/MachineLearning')\n",
    "%load_ext autoreload\n",
    "%autoreload 2"
   ]
  },
  {
   "cell_type": "code",
   "execution_count": 2,
   "metadata": {
    "scrolled": false
   },
   "outputs": [
    {
     "ename": "ModuleNotFoundError",
     "evalue": "No module named 'franklin'",
     "output_type": "error",
     "traceback": [
      "\u001b[1;31m---------------------------------------------------------------------------\u001b[0m",
      "\u001b[1;31mModuleNotFoundError\u001b[0m                       Traceback (most recent call last)",
      "\u001b[1;32m<ipython-input-2-32d8280bbd37>\u001b[0m in \u001b[0;36m<module>\u001b[1;34m\u001b[0m\n\u001b[0;32m      3\u001b[0m \u001b[1;32mimport\u001b[0m \u001b[0mcopy\u001b[0m\u001b[1;33m\u001b[0m\u001b[1;33m\u001b[0m\u001b[0m\n\u001b[0;32m      4\u001b[0m \u001b[1;33m\u001b[0m\u001b[0m\n\u001b[1;32m----> 5\u001b[1;33m \u001b[1;32mfrom\u001b[0m \u001b[0mfranklin\u001b[0m\u001b[1;33m.\u001b[0m\u001b[0mspanningTreeUtilities\u001b[0m \u001b[1;32mimport\u001b[0m \u001b[1;33m*\u001b[0m\u001b[1;33m\u001b[0m\u001b[1;33m\u001b[0m\u001b[0m\n\u001b[0m\u001b[0;32m      6\u001b[0m \u001b[1;32mfrom\u001b[0m \u001b[0mfranklin\u001b[0m\u001b[1;33m.\u001b[0m\u001b[0mmeshedPathUtilities\u001b[0m \u001b[1;32mimport\u001b[0m \u001b[1;33m*\u001b[0m\u001b[1;33m\u001b[0m\u001b[1;33m\u001b[0m\u001b[0m\n\u001b[0;32m      7\u001b[0m \u001b[1;33m\u001b[0m\u001b[0m\n",
      "\u001b[1;31mModuleNotFoundError\u001b[0m: No module named 'franklin'"
     ]
    }
   ],
   "source": [
    "import numpy as np\n",
    "import math\n",
    "import copy\n",
    "\n",
    "from franklin.spanningTreeUtilities import *\n",
    "from franklin.meshedPathUtilities import *\n",
    "\n",
    "np.set_printoptions(precision=3,linewidth=120)"
   ]
  },
  {
   "cell_type": "markdown",
   "metadata": {},
   "source": [
    "##Edge Lists"
   ]
  },
  {
   "cell_type": "code",
   "execution_count": 4,
   "metadata": {
    "scrolled": true
   },
   "outputs": [
    {
     "name": "stdout",
     "output_type": "stream",
     "text": [
      "Edge choices are:  ['K4', 'K5', 'K6', 'S4', 'T16', 'cube', 'dodec', 'icosa', 'octa', 'peterson']\n"
     ]
    }
   ],
   "source": [
    "edgeChoice = getEdgeChoice()\n",
    "print('Edge choices are: ',sorted(list(edgeChoice.keys())))"
   ]
  },
  {
   "cell_type": "markdown",
   "metadata": {},
   "source": [
    "###Select the Edges and the Root Vertex"
   ]
  },
  {
   "cell_type": "code",
   "execution_count": 5,
   "metadata": {},
   "outputs": [
    {
     "name": "stdout",
     "output_type": "stream",
     "text": [
      "Edges:  ['AB', 'AC', 'AD', 'AE', 'BC', 'BF', 'BG', 'CH', 'CI', 'DI', 'DJ', 'DK', 'EK', 'EL', 'EF', 'FL', 'FN', 'GH', 'GN', 'GP', 'HP', 'HQ', 'IJ', 'IQ', 'JR', 'JS', 'KS', 'KT', 'LT', 'LM', 'MN', 'MU', 'MV', 'NV', 'PV', 'PW', 'QR', 'QW', 'RW', 'RX', 'ST', 'SX', 'TU', 'UX', 'UY', 'VY', 'WY', 'XY']\n"
     ]
    }
   ],
   "source": [
    "#choice = 'icosa'    #Select the list of edge choices above\n",
    "#choice = 'dodec'    #Select the list of edge choices above\n",
    "choice = 'S4'    #Select the list of edge choices above\n",
    "#choice = 'T16'    #Select the list of edge choices above\n",
    "edges = copy.deepcopy(edgeChoice[choice])\n",
    "print('Edges: ',edges)"
   ]
  },
  {
   "cell_type": "code",
   "execution_count": 6,
   "metadata": {},
   "outputs": [
    {
     "name": "stdout",
     "output_type": "stream",
     "text": [
      "The root vertex is: A\n"
     ]
    }
   ],
   "source": [
    "root = 'A'   #Declare the root vertex\n",
    "print('The root vertex is:',root)"
   ]
  },
  {
   "cell_type": "markdown",
   "metadata": {},
   "source": [
    "###Extract the Vertices and the Neighbors"
   ]
  },
  {
   "cell_type": "code",
   "execution_count": 7,
   "metadata": {
    "collapsed": true
   },
   "outputs": [],
   "source": [
    "graf = getGraph(edges)"
   ]
  },
  {
   "cell_type": "code",
   "execution_count": 8,
   "metadata": {
    "scrolled": true
   },
   "outputs": [
    {
     "data": {
      "text/plain": [
       "Graph(edges=['AB', 'AC', 'AD', 'AE', 'BC', 'BF', 'BG', 'CH', 'CI', 'DI', 'DJ', 'DK', 'EK', 'EL', 'EF', 'FL', 'FN', 'GH', 'GN', 'GP', 'HP', 'HQ', 'IJ', 'IQ', 'JR', 'JS', 'KS', 'KT', 'LT', 'LM', 'MN', 'MU', 'MV', 'NV', 'PV', 'PW', 'QR', 'QW', 'RW', 'RX', 'ST', 'SX', 'TU', 'UX', 'UY', 'VY', 'WY', 'XY'], verts=['A', 'B', 'C', 'D', 'E', 'F', 'G', 'H', 'I', 'J', 'K', 'L', 'M', 'N', 'P', 'Q', 'R', 'S', 'T', 'U', 'V', 'W', 'X', 'Y'], nbrs={'V': ['P', 'Y', 'N', 'M'], 'J': ['D', 'I', 'R', 'S'], 'P': ['H', 'G', 'V', 'W'], 'X': ['U', 'Y', 'R', 'S'], 'I': ['C', 'J', 'Q', 'D'], 'G': ['H', 'B', 'N', 'P'], 'Q': ['H', 'I', 'R', 'W'], 'E': ['F', 'A', 'K', 'L'], 'F': ['E', 'B', 'N', 'L'], 'W': ['Y', 'R', 'Q', 'P'], 'R': ['J', 'X', 'Q', 'W'], 'M': ['U', 'V', 'N', 'L'], 'C': ['H', 'A', 'B', 'I'], 'D': ['J', 'A', 'K', 'I'], 'K': ['D', 'E', 'T', 'S'], 'Y': ['U', 'X', 'V', 'W'], 'A': ['C', 'D', 'B', 'E'], 'B': ['C', 'F', 'G', 'A'], 'L': ['F', 'E', 'T', 'M'], 'N': ['F', 'G', 'V', 'M'], 'S': ['K', 'J', 'X', 'T'], 'U': ['Y', 'X', 'T', 'M'], 'H': ['C', 'G', 'Q', 'P'], 'T': ['U', 'K', 'S', 'L']})"
      ]
     },
     "execution_count": 8,
     "metadata": {},
     "output_type": "execute_result"
    }
   ],
   "source": [
    "graf"
   ]
  },
  {
   "cell_type": "code",
   "execution_count": 9,
   "metadata": {},
   "outputs": [
    {
     "name": "stdout",
     "output_type": "stream",
     "text": [
      "['A', 'B', 'C', 'D', 'E', 'F', 'G', 'H', 'I', 'J', 'K', 'L', 'M', 'N', 'P', 'Q', 'R', 'S', 'T', 'U', 'V', 'W', 'X', 'Y']\n"
     ]
    }
   ],
   "source": [
    "verts = graf.verts\n",
    "print(verts)"
   ]
  },
  {
   "cell_type": "code",
   "execution_count": 10,
   "metadata": {
    "scrolled": true
   },
   "outputs": [
    {
     "name": "stdout",
     "output_type": "stream",
     "text": [
      "{'V': ['P', 'Y', 'N', 'M'], 'J': ['D', 'I', 'R', 'S'], 'P': ['H', 'G', 'V', 'W'], 'X': ['U', 'Y', 'R', 'S'], 'I': ['C', 'J', 'Q', 'D'], 'G': ['H', 'B', 'N', 'P'], 'Q': ['H', 'I', 'R', 'W'], 'E': ['F', 'A', 'K', 'L'], 'F': ['E', 'B', 'N', 'L'], 'W': ['Y', 'R', 'Q', 'P'], 'R': ['J', 'X', 'Q', 'W'], 'M': ['U', 'V', 'N', 'L'], 'C': ['H', 'A', 'B', 'I'], 'D': ['J', 'A', 'K', 'I'], 'K': ['D', 'E', 'T', 'S'], 'Y': ['U', 'X', 'V', 'W'], 'A': ['C', 'D', 'B', 'E'], 'B': ['C', 'F', 'G', 'A'], 'L': ['F', 'E', 'T', 'M'], 'N': ['F', 'G', 'V', 'M'], 'S': ['K', 'J', 'X', 'T'], 'U': ['Y', 'X', 'T', 'M'], 'H': ['C', 'G', 'Q', 'P'], 'T': ['U', 'K', 'S', 'L']}\n"
     ]
    }
   ],
   "source": [
    "nbrs = graf.nbrs\n",
    "print(nbrs)"
   ]
  },
  {
   "cell_type": "code",
   "execution_count": 11,
   "metadata": {
    "scrolled": false
   },
   "outputs": [
    {
     "data": {
      "text/plain": [
       "MeshedPaths(verts=['A', 'B', 'C', 'D', 'E', 'F', 'G', 'H', 'I', 'J', 'K', 'L', 'M', 'N', 'P', 'Q', 'R', 'S', 'T', 'U', 'V', 'W', 'X', 'Y'], nbrs={'V': ['P', 'Y', 'N', 'M'], 'J': ['D', 'I', 'R', 'S'], 'P': ['H', 'G', 'V', 'W'], 'X': ['U', 'Y', 'R', 'S'], 'I': ['C', 'J', 'Q', 'D'], 'G': ['H', 'B', 'N', 'P'], 'Q': ['H', 'I', 'R', 'W'], 'E': ['F', 'A', 'K', 'L'], 'F': ['E', 'B', 'N', 'L'], 'W': ['Y', 'R', 'Q', 'P'], 'R': ['J', 'X', 'Q', 'W'], 'M': ['U', 'V', 'N', 'L'], 'C': ['H', 'A', 'B', 'I'], 'D': ['J', 'A', 'K', 'I'], 'K': ['D', 'E', 'T', 'S'], 'Y': ['U', 'X', 'V', 'W'], 'A': ['C', 'D', 'B', 'E'], 'B': ['C', 'F', 'G', 'A'], 'L': ['F', 'E', 'T', 'M'], 'N': ['F', 'G', 'V', 'M'], 'S': ['K', 'J', 'X', 'T'], 'U': ['Y', 'X', 'T', 'M'], 'H': ['C', 'G', 'Q', 'P'], 'T': ['U', 'K', 'S', 'L']}, root='A', pathBundles={'V': ['ABFNV', 'ABGNV', 'ABGPV', 'ACHPV'], 'J': ['ADJ', 'ACIJ'], 'P': ['ABGP', 'ACHP'], 'X': ['ADJRX', 'ADJSX', 'ADKSX', 'AEKSX'], 'I': ['ACI', 'ADI'], 'G': ['ABG', 'ACBG', 'ACHG'], 'Q': ['ACHQ', 'ACIQ', 'ADIQ'], 'E': ['AE', 'ABFE'], 'F': ['ABF', 'AEF'], 'W': ['ABGPW', 'ACHPW', 'ACHQW'], 'R': ['ADJR', 'ACHQR'], 'M': ['AELM', 'ABFLM', 'ABFNM'], 'C': ['AC', 'ABC'], 'D': ['AD', 'ACID'], 'K': ['ADK', 'AEK'], 'Y': ['ABFNVY', 'ABGNVY', 'ABGPVY', 'ABGPWY', 'ACHPVY'], 'A': ['A'], 'B': ['AB', 'ACB'], 'L': ['AEL', 'ABFL'], 'N': ['ABFN', 'ABGN', 'AEFN'], 'S': ['ADJS', 'ADKS', 'AEKS'], 'U': ['ADKTU', 'AEKTU', 'AELMU'], 'H': ['ACH', 'ABCH', 'ABGH'], 'T': ['ADKT', 'AEKT', 'AELT']}, sendingEvents=[1, 4, 9, 13, 6, 1])"
      ]
     },
     "execution_count": 11,
     "metadata": {},
     "output_type": "execute_result"
    }
   ],
   "source": [
    "mPaths = getMeshedPaths(nbrs,root)\n",
    "mPaths"
   ]
  },
  {
   "cell_type": "code",
   "execution_count": 12,
   "metadata": {
    "scrolled": false
   },
   "outputs": [
    {
     "name": "stdout",
     "output_type": "stream",
     "text": [
      "['A']\n",
      "['AB', 'ACB']\n",
      "['AC', 'ABC']\n",
      "['AD', 'ACID']\n",
      "['AE', 'ABFE']\n",
      "['ABF', 'AEF']\n",
      "['ABG', 'ACBG', 'ACHG']\n",
      "['ACH', 'ABCH', 'ABGH']\n",
      "['ACI', 'ADI']\n",
      "['ADJ', 'ACIJ']\n",
      "['ADK', 'AEK']\n",
      "['AEL', 'ABFL']\n",
      "['AELM', 'ABFLM', 'ABFNM']\n",
      "['ABFN', 'ABGN', 'AEFN']\n",
      "['ABGP', 'ACHP']\n",
      "['ACHQ', 'ACIQ', 'ADIQ']\n",
      "['ADJR', 'ACHQR']\n",
      "['ADJS', 'ADKS', 'AEKS']\n",
      "['ADKT', 'AEKT', 'AELT']\n",
      "['ADKTU', 'AEKTU', 'AELMU']\n",
      "['ABFNV', 'ABGNV', 'ABGPV', 'ACHPV']\n",
      "['ABGPW', 'ACHPW', 'ACHQW']\n",
      "['ADJRX', 'ADJSX', 'ADKSX', 'AEKSX']\n",
      "['ABFNVY', 'ABGNVY', 'ABGPVY', 'ABGPWY', 'ACHPVY']\n"
     ]
    }
   ],
   "source": [
    "null = [print(mPaths.pathBundles[vert]) for vert in verts]"
   ]
  },
  {
   "cell_type": "code",
   "execution_count": 13,
   "metadata": {},
   "outputs": [
    {
     "name": "stdout",
     "output_type": "stream",
     "text": [
      "bundle sizes =  [1, 2, 2, 2, 2, 2, 3, 3, 2, 2, 2, 2, 3, 3, 2, 3, 2, 3, 3, 3, 4, 3, 4, 5]\n",
      "total paths  =  63\n"
     ]
    }
   ],
   "source": [
    "bndlSizes = [len(mPaths.pathBundles[vert]) for vert in verts]\n",
    "bndlSum = sum(bndlSizes)\n",
    "print('bundle sizes = ',bndlSizes)\n",
    "print('total paths  = ',bndlSum)"
   ]
  },
  {
   "cell_type": "code",
   "execution_count": 14,
   "metadata": {},
   "outputs": [
    {
     "data": {
      "text/plain": [
       "{'A': '',\n",
       " 'B': 'A',\n",
       " 'C': 'A',\n",
       " 'D': 'A',\n",
       " 'E': 'A',\n",
       " 'F': 'B',\n",
       " 'G': 'B',\n",
       " 'H': 'C',\n",
       " 'I': 'C',\n",
       " 'J': 'D',\n",
       " 'K': 'D',\n",
       " 'L': 'E',\n",
       " 'M': 'L',\n",
       " 'N': 'F',\n",
       " 'P': 'G',\n",
       " 'Q': 'H',\n",
       " 'R': 'J',\n",
       " 'S': 'J',\n",
       " 'T': 'K',\n",
       " 'U': 'T',\n",
       " 'V': 'N',\n",
       " 'W': 'P',\n",
       " 'X': 'R',\n",
       " 'Y': 'V'}"
      ]
     },
     "execution_count": 14,
     "metadata": {},
     "output_type": "execute_result"
    }
   ],
   "source": [
    "parents = getParents(verts,mPaths.pathBundles)\n",
    "parents"
   ]
  },
  {
   "cell_type": "code",
   "execution_count": 15,
   "metadata": {},
   "outputs": [
    {
     "data": {
      "text/plain": [
       "(True, 'Parents build a spanning tree.')"
      ]
     },
     "execution_count": 15,
     "metadata": {},
     "output_type": "execute_result"
    }
   ],
   "source": [
    "valid = getParentsValidity(verts,parents,root)\n",
    "valid"
   ]
  },
  {
   "cell_type": "code",
   "execution_count": 16,
   "metadata": {
    "scrolled": true
   },
   "outputs": [
    {
     "data": {
      "text/plain": [
       "{'A': ['B', 'C', 'D', 'E'],\n",
       " 'B': ['F', 'G'],\n",
       " 'C': ['H', 'I'],\n",
       " 'D': ['J', 'K'],\n",
       " 'E': ['L'],\n",
       " 'F': ['N'],\n",
       " 'G': ['P'],\n",
       " 'H': ['Q'],\n",
       " 'I': [],\n",
       " 'J': ['R', 'S'],\n",
       " 'K': ['T'],\n",
       " 'L': ['M'],\n",
       " 'M': [],\n",
       " 'N': ['V'],\n",
       " 'P': ['W'],\n",
       " 'Q': [],\n",
       " 'R': ['X'],\n",
       " 'S': [],\n",
       " 'T': ['U'],\n",
       " 'U': [],\n",
       " 'V': ['Y'],\n",
       " 'W': [],\n",
       " 'X': [],\n",
       " 'Y': []}"
      ]
     },
     "execution_count": 16,
     "metadata": {},
     "output_type": "execute_result"
    }
   ],
   "source": [
    "children = getChildren(verts,parents)\n",
    "children"
   ]
  }
 ],
 "metadata": {
  "anaconda-cloud": {},
  "kernelspec": {
   "display_name": "Python 3",
   "language": "python",
   "name": "python3"
  },
  "language_info": {
   "codemirror_mode": {
    "name": "ipython",
    "version": 3
   },
   "file_extension": ".py",
   "mimetype": "text/x-python",
   "name": "python",
   "nbconvert_exporter": "python",
   "pygments_lexer": "ipython3",
   "version": "3.7.3"
  }
 },
 "nbformat": 4,
 "nbformat_minor": 2
}
